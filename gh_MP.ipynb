{
 "cells": [
  {
   "cell_type": "code",
   "execution_count": null,
   "id": "c30eca8a-068c-4f49-9676-a795142f2b65",
   "metadata": {},
   "outputs": [],
   "source": [
    "For upload to github."
   ]
  },
  {
   "cell_type": "markdown",
   "id": "4e93aecf-78fb-437f-9ac5-f7a0088a071c",
   "metadata": {},
   "source": [
    "\n",
    "Message passing for weighted tree graph\n"
   ]
  },
  {
   "cell_type": "code",
   "execution_count": 2,
   "id": "1f451585-b595-4abb-8674-7499d892cf0d",
   "metadata": {},
   "outputs": [],
   "source": [
    "import math\n",
    "import ipywidgets as widgets\n",
    "import numpy as np\n",
    "import copy\n",
    "\n",
    "import networkx as nx\n",
    "import matplotlib.pyplot as plt\n",
    "import matplotlib as mpl"
   ]
  },
  {
   "cell_type": "code",
   "execution_count": 24,
   "id": "528c4c34-3efb-41fd-a14e-d3744cd05c08",
   "metadata": {},
   "outputs": [],
   "source": [
    "def MP_weighted(G, nodes_infected, T_max=5, num_T_positions=10):\n",
    "    \"\"\"\n",
    "    Args:\n",
    "        G:  an undirected graph constructed by networkx, with edge property 'weight' storing the edge weight.\n",
    "        nodes_infected: a set of infected nodes.\n",
    "        T_max: upbound of observation/spreading time considered\n",
    "        num_T_positions: used for decides T_positions=[i for i in range(1, num_T_positions+1)], and the optimization will search over observation time [T_max*t_pos/num_T_positions for t_pos in T_positions]\n",
    "    Returns:\n",
    "        \n",
    "    \n",
    "    \"\"\"\n",
    "       \n",
    "    \n",
    "    #### draw the graph G\n",
    "    pos_SEED=0\n",
    "    \n",
    "    edge_labels = nx.get_edge_attributes(G,'weight')\n",
    "    # Set the node colors\n",
    "    node_colors = ['gray' if i in nodes_infected else 'white' for i in range(G.number_of_nodes())]\n",
    "\n",
    "    # Draw the graph\n",
    "    pos = nx.spring_layout(G, seed=pos_SEED)\n",
    "    nx.draw_networkx_nodes(G, pos, node_color=node_colors, node_size=800, edgecolors= 'black')\n",
    "    nx.draw_networkx_labels(G, pos, labels={i: str(i) for i in range(G.number_of_nodes())}, font_size=12)\n",
    "    nx.draw_networkx_edges(G, pos, width=2)\n",
    "    nx.draw_networkx_edge_labels(G, pos, edge_labels)\n",
    "    plt.axis('off')\n",
    "    plt.show()\n",
    "    \n",
    "    \n",
    "    #### Construct the parent and child relation between nodes after selecting a node as source\n",
    "    \n",
    "    source=0\n",
    "    parent={} # 'key:value' pair where 'value' is the parent node for node 'key'\n",
    "    child={} #'key:value' pair where 'value' is the set of child nodes for node 'key'\n",
    "    depth={} # \n",
    "    nodes_waiting_child=set() # nodes haven't assigned child\n",
    "    b_uninfected=set() #susceptible nodes at final observation; uninfected nodes which have infected neighbors\n",
    "    b_infected=set() #infected nodes which have uninfected neighbors\n",
    "    leaf_infected=set() # the leaf infected nodes\n",
    "\n",
    "    parent[source]=None\n",
    "    depth[source]=0\n",
    "    nodes_waiting_child.add(source)\n",
    "    while len(nodes_waiting_child)!=0:\n",
    "        i=nodes_waiting_child.pop()\n",
    "        child[i]= set(j for j in G.neighbors(i) if j not in parent.keys())\n",
    "        is_leaf = True\n",
    "        for j in child[i]:\n",
    "            parent[j]=i\n",
    "            if j in nodes_infected:\n",
    "                depth[j]=depth[i]+1\n",
    "                nodes_waiting_child.add(j)\n",
    "                is_leaf = False\n",
    "            else:\n",
    "                b_uninfected.add(j)\n",
    "                b_infected.add(i)\n",
    "        if is_leaf==True:\n",
    "            leaf_infected.add(i)    \n",
    "            \n",
    "    #### get some variable aiding the judgement whether a node received all messages from its child nodes\n",
    "    static_num_child_not_ready={}\n",
    "    static_nodes_ready=set() # nodes whose children nodes all can be ready with messages, i.e. nodes that have no child nodes \n",
    "    static_nodes_received=set()\n",
    "\n",
    "    # only deal with infected nodes, since uninfected nodes in b_uninfected is always ready\n",
    "    for i in nodes_infected:\n",
    "\n",
    "        if len(child[i])==0:\n",
    "            static_num_child_not_ready[i]=0\n",
    "            static_nodes_ready.add(i)\n",
    "        else:\n",
    "            static_num_child_not_ready[i]=len(child[i])\n",
    "            \n",
    "    \n",
    "    ## Discrete FFT for convolution of a and b\n",
    "    def rfft_convolve(a, b):\n",
    "        ''' return discrete convolution array of arrays a and b by fft\n",
    "        '''\n",
    "        #here we only deal with the case len(a)==len(b)\n",
    "        if len(a)!=len(b):\n",
    "            print(\"Warning. The arrays a and b in fft has different lenghth\")\n",
    "        n = len(a) + len(b) -1\n",
    "        N = 2 ** (int(np.log2(n))+1)\n",
    "        A = np.fft.rfft(a, N)\n",
    "        B = np.fft.rfft(b, N)\n",
    "        return np.fft.irfft(A*B)[:(n+1)//2]\n",
    "    \n",
    "    #### message passing for the source node given by initiallization \n",
    "    #### T_max=5\n",
    "\n",
    "    ####T_positions=[i for i in range(1,11)]\n",
    "    T_positions=[i for i in range(1, num_T_positions+1)]\n",
    "\n",
    "    message=[None]*(len(T_positions)+1)\n",
    "    result=[None]*(len(T_positions)+1)\n",
    "\n",
    "\n",
    "    for t_pos in T_positions:\n",
    "        num_child_not_ready=static_num_child_not_ready.copy()\n",
    "        nodes_ready=static_nodes_ready.copy()\n",
    "        nodes_received=static_nodes_received.copy()\n",
    "\n",
    "        message[t_pos]={}\n",
    "        result[t_pos]={}\n",
    "\n",
    "        T=T_max*t_pos/len(T_positions) # total time, or observation time\n",
    "        num_intervals=20\n",
    "        t_of_T=[T/num_intervals*i for i in range(0, num_intervals+1)]\n",
    "\n",
    "        # currently nodes_ready are infected nodes with no child nodes\n",
    "        nodes_no_child=nodes_ready.copy()\n",
    "        nodes_received=nodes_ready.copy()\n",
    "        nodes_ready=set()\n",
    "        while len(nodes_no_child)!=0: \n",
    "            i=nodes_no_child.pop()\n",
    "            message[t_pos][i]=[1-math.exp(-G[i][parent[i]]['weight'] * t_of_T[j]) for j in range(0, num_intervals+1)]\n",
    "            i_p=parent[i]\n",
    "            num_child_not_ready[i_p]-=1\n",
    "            if num_child_not_ready[i_p] == 0:\n",
    "                nodes_ready.add(i_p)\n",
    "\n",
    "        for i in b_uninfected:\n",
    "            message[t_pos][i]=[math.exp(-G[i][parent[i]]['weight'] * t_of_T[j]) for j in range(0, num_intervals+1)]\n",
    "            i_p=parent[i]\n",
    "            num_child_not_ready[i_p]-=1\n",
    "            if num_child_not_ready[i_p] == 0:\n",
    "                nodes_ready.add(i_p)\n",
    "\n",
    "        while len(nodes_ready)!=0:\n",
    "            i=nodes_ready.pop()\n",
    "            nodes_received.add(i)\n",
    "            message[t_pos][i]=[]\n",
    "\n",
    "            if parent[i] is not None:\n",
    "                child_product=np.array([1]*len(t_of_T))\n",
    "                for k in child[i]:\n",
    "                    child_product=np.multiply(child_product, np.array(message[t_pos][k]))\n",
    "                i_pdf=[G[i][parent[i]]['weight'] * math.exp(-G[i][parent[i]]['weight'] * t_of_T[j]) for j in range(0, num_intervals+1)]\n",
    "                for j in range(0, num_intervals+1):\n",
    "                    ## not use fft\n",
    "                    message[t_pos][i].append(np.sum(np.multiply(child_product[::-1][:j+1], np.array(i_pdf)[:j+1]))*T/num_intervals)\n",
    "                    ##use fft  \n",
    "                    # message[t_pos][i].append(rfft_convolve(child_product[num_intervals-j:], i_pdf[:j+1])[::-1][0]*T/num_intervals)\n",
    "\n",
    "\n",
    "                i_p=parent[i]\n",
    "                num_child_not_ready[i_p]-=1\n",
    "                if num_child_not_ready[i_p] == 0:\n",
    "                    nodes_ready.add(i_p)    \n",
    "            else:\n",
    "                root_product=1\n",
    "                for k in child[i]:\n",
    "                    if k in nodes_infected:\n",
    "                        root_product=root_product*np.sum(message[t_pos][k])*T/num_intervals\n",
    "                    else:\n",
    "                        root_product=root_product*message[t_pos][k][num_intervals] # because for susceptible nodes in b_uninfected, we calculated its CDF in its message[t_pos]\n",
    "\n",
    "                result[t_pos][source]=root_product.copy()\n",
    "                \n",
    "                \n",
    "    \n",
    "    ## To compute likelihood probability for other nodes \n",
    "    message_from_parent=[None]*(len(T_positions)+1)\n",
    "\n",
    "\n",
    "    for t_pos in T_positions:\n",
    "        ## do not forgot the T and t_of_T when \"for t_pos in T_positions\" is separated to two part\n",
    "        T=T_max*t_pos/len(T_positions) # total time\n",
    "        t_of_T=[T/num_intervals*i for i in range(0, num_intervals+1)]\n",
    "\n",
    "\n",
    "        message_from_parent[t_pos]={}\n",
    "        nodes_to_compute=[i for i in child[source] if i in nodes_infected]\n",
    "        while len(nodes_to_compute)!=0:\n",
    "            i=nodes_to_compute.pop()\n",
    "            i_p=parent[i]\n",
    "\n",
    "            message_from_parent[t_pos][i]=[]\n",
    "            # calculate the product of messages from neighbors of i_p except i \n",
    "            child_product=np.array([1]*len(t_of_T))\n",
    "            child_i_p_exclude_i = child[i_p].copy()\n",
    "            child_i_p_exclude_i.remove(i)\n",
    "            for k in child_i_p_exclude_i:\n",
    "                child_product=np.multiply(child_product, np.array(message[t_pos][k]))\n",
    "            # parent[i_p] is not None means i is not connected to the source\n",
    "            if parent[i_p] is not None:\n",
    "                child_product=np.multiply(child_product, np.array(message_from_parent[t_pos][i_p]))\n",
    "\n",
    "            # message_from_parent[t_pos][i] is the message i_p should send to i\n",
    "            i_pdf=[G[i][i_p]['weight'] * math.exp(-G[i][i_p]['weight'] * t_of_T[j]) for j in range(0, num_intervals+1)]\n",
    "            for j in range(0, num_intervals+1):\n",
    "                ## not use fft\n",
    "                message_from_parent[t_pos][i].append(np.sum(np.multiply(child_product[::-1][:j+1], np.array(i_pdf)[:j+1]))*T/num_intervals)\n",
    "                ##use fft  \n",
    "                # message_from_parent[t_pos][i].append(rfft_convolve(child_product[num_intervals-j:], i_pdf[:j+1])[::-1][0]*T/num_intervals)            \n",
    "\n",
    "            # calculate the probability as if i is the root (source), for message from i_p, should use message_from_parent[t_pos][i]\n",
    "            root_product=1\n",
    "            root_product=root_product*np.sum(message_from_parent[t_pos][i])*T/num_intervals\n",
    "            for k in child[i]:\n",
    "                if k in nodes_infected:\n",
    "                    root_product=root_product*np.sum(message[t_pos][k])*T/num_intervals\n",
    "                else:\n",
    "                    root_product=root_product*message[t_pos][k][num_intervals] # because for susceptible nodes in b_uninfected, we calculated its CDF in its message\n",
    "            # print(t_pos, len(result),result[t_pos])\n",
    "            result[t_pos][i]=root_product.copy()\n",
    "\n",
    "             # nodes_no_result.remove(i)\n",
    "            nodes_to_compute=nodes_to_compute + [j for j in child[i] if j in nodes_infected]                \n",
    "                \n",
    "                \n",
    "    \n",
    "    #### processing the results\n",
    "    ## store the likelyhood with nodes as keys of a dict. 'result_by_node[i][j]' is the likehood for node i to be the source when observation time is the T_positions[j]-th observation time\n",
    "    result_by_node={}\n",
    "    for i in nodes_infected:\n",
    "        result_by_node[i]=[]\n",
    "        for t_pos in T_positions:\n",
    "            result_by_node[i].append(result[t_pos][i]) # pay attention that the index 0 correspond to t_pos=1\n",
    "\n",
    "    ## 'max_nodes_t_pos' is a dict; max_nodes_t_pos[i][j] is an integer such that at max_nodes_t_pos[i][j]-th observation time is when node i achives largest likelyhood probability to be the source over all the ovservation times\n",
    "    ## 'max_node' are the node has the largest likelyhood probability to be the source, and 'max_value' is the value.\n",
    "    max_nodes_t_pos={}\n",
    "    max_value=0\n",
    "    max_nodes=set()\n",
    "\n",
    "    for k,v in result_by_node.items():\n",
    "        max_index=np.argmax(v)\n",
    "        max_nodes_t_pos[k]=max_index+1\n",
    "        if np.isclose(v[max_index],max_value):\n",
    "            max_nodes.add(k)\n",
    "        elif v[max_index]>max_value:               \n",
    "            max_value=v[max_index]\n",
    "            max_nodes={k}\n",
    "\n",
    "    # print(max_nodes_t_pos)\n",
    "    print('The most likely source nodes are:', max_nodes, '\\n', 'the corresponding likelyhood probability value is', max_value, '\\n', \n",
    "              'the index of the ovservation time correspond to node', list(max_nodes)[0], ' is ', max_nodes_t_pos[list(max_nodes)[0]])\n",
    "\n",
    "    ## result_by_t_pos[i][j] is the likelyhood probability for node j to be the source at i-th observation time.\n",
    "    result_by_t_pos={}\n",
    "    # pay attention that the index 0 correspond to t_pos=1\n",
    "    for t_pos in T_positions:\n",
    "        result_by_t_pos[t_pos]=[]\n",
    "        for k in G.nodes():\n",
    "            result_by_t_pos[t_pos].append(result_by_node[k][t_pos-1] if k in nodes_infected else 0)\n",
    "\n",
    "    colors_dict=copy.deepcopy(result_by_t_pos)\n",
    "    norm = mpl.colors.Normalize(vmin=0, vmax=max_value, clip=True)\n",
    "    mapper = mpl.cm.ScalarMappable(norm=norm, cmap=mpl.cm.Greens)\n",
    "\n",
    "    def plot_result_by_t_pos(t_pos_for_plot):\n",
    "        nx.draw(G, pos=pos, node_color=[mapper.to_rgba(i) for i in colors_dict[t_pos_for_plot]], with_labels=True)\n",
    "        plt.show()\n",
    "\n",
    "\n",
    "    widgets.interact(plot_result_by_t_pos,t_pos_for_plot=widgets.IntSlider(min=1, max=max(T_positions), step=1, value=1,description=\"index of the observation time\",style={'description_width': 'initial'},layout=widgets.Layout(width='500px')))\n",
    "\n",
    "    print(\"the darker the node color, the larger probability for the node to be the source\")\n",
    "\n",
    "    "
   ]
  },
  {
   "cell_type": "code",
   "execution_count": 26,
   "id": "2ad5daf5-e09e-43a8-a0a9-0b27fe5f52a4",
   "metadata": {},
   "outputs": [
    {
     "data": {
      "image/png": "[encoded data removed]",
      "text/plain": [
       "<Figure size 640x480 with 1 Axes>"
      ]
     },
     "metadata": {},
     "output_type": "display_data"
    },
    {
     "name": "stdout",
     "output_type": "stream",
     "text": [
      "The most likely source nodes are: {1} \n",
      " the corresponding likelyhood probability value is 0.009677001481214836 \n",
      " the index of the ovservation time correspond to node 1  is  3\n"
     ]
    },
    {
     "data": {
      "application/vnd.jupyter.widget-view+json": {
       "model_id": "66faec2c1cfa454b96bc3af4ef5e7e5e",
       "version_major": 2,
       "version_minor": 0
      },
      "text/plain": [
       "interactive(children=(IntSlider(value=1, description='index of the observation time', layout=Layout(width='500…"
      ]
     },
     "metadata": {},
     "output_type": "display_data"
    },
    {
     "name": "stdout",
     "output_type": "stream",
     "text": [
      "the darker the node color, the larger probability for the node to be the source\n"
     ]
    }
   ],
   "source": [
    "## provide G and nodes_infected, or use the example by running the cell for constructing the graph below this cell first\n",
    "MP_weighted(G, nodes_infected)"
   ]
  },
  {
   "cell_type": "code",
   "execution_count": 21,
   "id": "165114f0-4c0b-4d1f-a48c-c394333a713a",
   "metadata": {},
   "outputs": [],
   "source": []
  },
  {
   "cell_type": "code",
   "execution_count": null,
   "id": "3d3a6ad9-b910-4969-847d-64152cbd9c60",
   "metadata": {},
   "outputs": [],
   "source": []
  },
  {
   "cell_type": "markdown",
   "id": "6dfd71b2-d03c-46c5-9f07-610022953e2a",
   "metadata": {},
   "source": [
    "Construct a graph `G` with weight property, and `nodes_infected` indicating the infected nodes"
   ]
  },
  {
   "cell_type": "code",
   "execution_count": 4,
   "id": "84a0a823-24cf-477a-8b45-b61c27f83fa9",
   "metadata": {},
   "outputs": [
    {
     "data": {
      "image/png": "[encoded data removed]",
      "text/plain": [
       "<Figure size 640x480 with 1 Axes>"
      ]
     },
     "metadata": {},
     "output_type": "display_data"
    }
   ],
   "source": [
    "\n",
    "# seed used in \"nx.spring_layout(G, seed=pos_SEED)\"\n",
    "pos_SEED=0\n",
    "\n",
    "\n",
    "# Create an empty tree graph\n",
    "G = nx.Graph()\n",
    "\n",
    "# Add 10 nodes to the graph\n",
    "G.add_nodes_from(range(11))\n",
    "\n",
    "# Connect the nodes in a tree structure\n",
    "G.add_edges_from([(0, 1), (0, 2), (1, 3), (1, 4), (2, 5), (2, 6), (3, 7), (3, 8), (4, 9)])\n",
    "\n",
    "for e in G.edges(data=True):\n",
    "    G[e[0]][e[1]][\"weight\"]=1\n",
    "    \n",
    "nodes_infected={0,1,3,4}\n",
    "\n",
    "\n",
    "edge_labels = nx.get_edge_attributes(G,'weight')\n",
    "    \n",
    "\n",
    "# Set the node colors\n",
    "node_colors = ['gray' if i in nodes_infected else 'white' for i in range(G.number_of_nodes())]\n",
    "\n",
    "# Draw the graph\n",
    "pos = nx.spring_layout(G, seed=pos_SEED)\n",
    "nx.draw_networkx_nodes(G, pos, node_color=node_colors, node_size=800, edgecolors= 'black')\n",
    "nx.draw_networkx_labels(G, pos, labels={i: str(i) for i in range(G.number_of_nodes())}, font_size=12)\n",
    "nx.draw_networkx_edges(G, pos, width=2)\n",
    "nx.draw_networkx_edge_labels(G, pos, edge_labels)\n",
    "plt.axis('off')\n",
    "plt.show()"
   ]
  },
  {
   "cell_type": "code",
   "execution_count": 4,
   "id": "9bcdd431-4ce1-4ebc-b121-0d17f905c9d1",
   "metadata": {},
   "outputs": [
    {
     "data": {
      "text/plain": [
       "EdgeDataView([(0, 1, {'weight': 1}), (0, 2, {'weight': 1}), (1, 3, {'weight': 1}), (1, 4, {'weight': 1}), (2, 5, {'weight': 1}), (2, 6, {'weight': 1}), (3, 7, {'weight': 1}), (3, 8, {'weight': 1}), (4, 9, {'weight': 1})])"
      ]
     },
     "execution_count": 4,
     "metadata": {},
     "output_type": "execute_result"
    }
   ],
   "source": [
    "G.edges(data=True)"
   ]
  },
  {
   "cell_type": "code",
   "execution_count": 48,
   "id": "8fdc9eeb-1a7a-4919-9ac3-144e3d8badf7",
   "metadata": {},
   "outputs": [
    {
     "name": "stdout",
     "output_type": "stream",
     "text": [
      "{0, 1, 3, 4}\n"
     ]
    }
   ],
   "source": [
    "print(nodes_infected)"
   ]
  },
  {
   "cell_type": "markdown",
   "id": "7b92fdd1-e02f-478c-a276-bd827f6d23a6",
   "metadata": {
    "tags": []
   },
   "source": [
    "\n",
    "Required input:  \n",
    " - G: an undirected graph constructed by networkx， with property \"weight\" storing the edge weight.\n",
    " - 'nodes_infected': the set indicating the infected nodes\n",
    "\n"
   ]
  },
  {
   "cell_type": "code",
   "execution_count": null,
   "id": "c0ed3d58-e024-4cce-983a-3e46b9922755",
   "metadata": {},
   "outputs": [],
   "source": []
  },
  {
   "cell_type": "code",
   "execution_count": 7,
   "id": "ab0a4f9d-e568-4006-bb75-84ed2b9be7b7",
   "metadata": {},
   "outputs": [
    {
     "name": "stdout",
     "output_type": "stream",
     "text": [
      "{0: None, 1: 0, 2: 0, 3: 1, 4: 1, 8: 3, 7: 3, 9: 4}\n",
      "\n",
      "{0: {1, 2}, 1: {3, 4}, 3: {8, 7}, 4: {9}}\n",
      "\n",
      "{8, 9, 2, 7}\n",
      "\n",
      "{0, 3, 4}\n",
      "\n",
      "{0: 0, 1: 1, 3: 2, 4: 2}\n",
      "\n",
      "{3, 4}\n"
     ]
    }
   ],
   "source": [
    "\"\"\"\n",
    "Construct the parent and child relation between nodes after selecting a node as source.\n",
    "\"\"\"\n",
    "source=0\n",
    "parent={} # 'key:value' pair where 'value' is the parent node for node 'key'\n",
    "child={} #'key:value' pair where 'value' is the set of child nodes for node 'key'\n",
    "depth={} # \n",
    "nodes_waiting_child=set() # nodes haven't assigned child\n",
    "b_uninfected=set() #susceptible nodes at final observation; uninfected nodes which have infected neighbors\n",
    "b_infected=set() #infected nodes which have uninfected neighbors\n",
    "leaf_infected=set() # the leaf infected nodes\n",
    "\n",
    "parent[source]=None\n",
    "depth[source]=0\n",
    "nodes_waiting_child.add(source)\n",
    "while len(nodes_waiting_child)!=0:\n",
    "    i=nodes_waiting_child.pop()\n",
    "    child[i]= set(j for j in G.neighbors(i) if j not in parent.keys())\n",
    "    is_leaf = True\n",
    "    for j in child[i]:\n",
    "        parent[j]=i\n",
    "        if j in nodes_infected:\n",
    "            depth[j]=depth[i]+1\n",
    "            nodes_waiting_child.add(j)\n",
    "            is_leaf = False\n",
    "        else:\n",
    "            b_uninfected.add(j)\n",
    "            b_infected.add(i)\n",
    "    if is_leaf==True:\n",
    "        leaf_infected.add(i)\n",
    "    # print(i, child[i])\n",
    "print(parent,child,b_uninfected,b_infected,depth,leaf_infected,sep=\"\\n\")"
   ]
  },
  {
   "cell_type": "code",
   "execution_count": 8,
   "id": "76a4a96c-ef0f-4462-bcb8-c50d0b44ea64",
   "metadata": {},
   "outputs": [],
   "source": [
    "## https://www.cnblogs.com/liam-ji/p/11979964.html\n",
    "## https://blog.csdn.net/whjkm/article/details/81949356\n",
    "## Discrete FFT for convolution of a and b\n",
    "def rfft_convolve(a, b):\n",
    "    ''' return discrete convolution array of arrays a and b by fft\n",
    "    '''\n",
    "    #here we only deal with the case len(a)==len(b)\n",
    "    if len(a)!=len(b):\n",
    "        print(\"Warning. The arrays a and b in fft has different lenghth\")\n",
    "    n = len(a) + len(b) -1\n",
    "    N = 2 ** (int(np.log2(n))+1)\n",
    "    A = np.fft.rfft(a, N)\n",
    "    B = np.fft.rfft(b, N)\n",
    "    return np.fft.irfft(A*B)[:(n+1)//2]\n"
   ]
  },
  {
   "cell_type": "code",
   "execution_count": 9,
   "id": "7d6bc437-9747-43ce-9be1-c550dc20fa2b",
   "metadata": {},
   "outputs": [],
   "source": [
    " \n",
    "static_num_child_not_ready={}\n",
    "static_nodes_ready=set() # nodes whose children nodes all can be ready with messages, i.e. nodes that have no child nodes \n",
    "static_nodes_received=set()\n",
    "\n",
    "# only deal with infected nodes, since uninfected nodes in b_uninfected is always ready\n",
    "for i in nodes_infected:\n",
    "    \n",
    "    if len(child[i])==0:\n",
    "        static_num_child_not_ready[i]=0\n",
    "        static_nodes_ready.add(i)\n",
    "    else:\n",
    "        static_num_child_not_ready[i]=len(child[i])"
   ]
  },
  {
   "cell_type": "code",
   "execution_count": 10,
   "id": "a921ac54-aa99-41b5-8267-9d20d1c461e6",
   "metadata": {},
   "outputs": [
    {
     "name": "stdout",
     "output_type": "stream",
     "text": [
      "{0: 2, 1: 2, 3: 2, 4: 1} set() {0: 2, 1: 2, 3: 2, 4: 1}\n"
     ]
    }
   ],
   "source": [
    "print(static_num_child_not_ready,static_nodes_ready,static_num_child_not_ready)"
   ]
  },
  {
   "cell_type": "code",
   "execution_count": 11,
   "id": "b7c8d0ed-d720-4369-b675-cca6af50dfe8",
   "metadata": {},
   "outputs": [],
   "source": [
    "\"\"\"\n",
    "'T_max' is the upbound of the ovservation time\n",
    "'T_positions' is a list whose i-th element is integer (i+1), used for getting T=T_max*T_positions[i] as observation time when we want to check the most likly sourceis the overservation time. \n",
    "'num_intervals': the number of intervals we want to discretize [0,T].\n",
    "'message' is a list, whose i-th (i>=1) element is a set storing the messages in the graph for the i-th overservation time T=T_max*i/(len(T_positions)) we want to test, and the 'key:value' pair in the set stores the message the node 'key' to pass to its parent node. Each message is a list whose length depends on the discretized time.\n",
    "'result' is a list, whose i-th (i>=1) element is a set, and the 'key:value' pair in the set is the probability for node 'key' to be the source when the observation/spreading time is T=T_max*i/(len(T_positions))\n",
    "\"\"\"\n",
    "\"\"\"\n",
    "T_positions causes a bit of confusion and diffuculty in programming in the following.\n",
    "T_max is the maximum possible observation time (total spreading time) we will consider. Since we need to test on different times to maximize the likelihood over time, we want to set different observation time T. T_positions is for getting the index(position) of the critical time, and at the same time we can iterate over T_position and use it as index for 'message'and 'result'.\n",
    "Currently, T_positions has the form [1,2,3,4], which decide, and we will consider overservation time T=T_max*t_pos/len(T_positions) for t_pos in T_positions, limited to homogeneous critical times.\n",
    "A better way is to use a new variable T_observe, i.e., T_observe=[2,2.5,3,5] to give the exact observation time, and use T_observe[T_positions[i]] to get the i-th critical time.\n",
    "Pay attention to the difference between observation time and the time decides by'num_intervals'. 'num_intervals' is a variable specifies number of intervals to discritize the time T (pay attention to the difference with T_max) for messages, since the compute can't store a function of time.\n",
    "\"\"\"\n",
    "\n",
    "T_max=5\n",
    "# T_positions=[1,2,3,4]\n",
    "T_positions=[i for i in range(1,11)]\n",
    "\n",
    "message=[None]*(len(T_positions)+1)\n",
    "result=[None]*(len(T_positions)+1)\n",
    "\n",
    "\n",
    "for t_pos in T_positions:\n",
    "    num_child_not_ready=static_num_child_not_ready.copy()\n",
    "    nodes_ready=static_nodes_ready.copy()\n",
    "    nodes_received=static_nodes_received.copy()\n",
    "        \n",
    "    message[t_pos]={}\n",
    "    result[t_pos]={}\n",
    "\n",
    "    T=T_max*t_pos/len(T_positions) # total time, or observation time\n",
    "    num_intervals=20\n",
    "    t_of_T=[T/num_intervals*i for i in range(0, num_intervals+1)]\n",
    "\n",
    "    # currently nodes_ready are infected nodes with no child nodes\n",
    "    nodes_no_child=nodes_ready.copy()\n",
    "    nodes_received=nodes_ready.copy()\n",
    "    nodes_ready=set()\n",
    "    while len(nodes_no_child)!=0: \n",
    "        i=nodes_no_child.pop()\n",
    "        message[t_pos][i]=[1-math.exp(-G[i][parent[i]]['weight'] * t_of_T[j]) for j in range(0, num_intervals+1)]\n",
    "        i_p=parent[i]\n",
    "        num_child_not_ready[i_p]-=1\n",
    "        if num_child_not_ready[i_p] == 0:\n",
    "            nodes_ready.add(i_p)\n",
    "\n",
    "    for i in b_uninfected:\n",
    "        message[t_pos][i]=[math.exp(-G[i][parent[i]]['weight'] * t_of_T[j]) for j in range(0, num_intervals+1)]\n",
    "        i_p=parent[i]\n",
    "        num_child_not_ready[i_p]-=1\n",
    "        if num_child_not_ready[i_p] == 0:\n",
    "            nodes_ready.add(i_p)\n",
    "\n",
    "    while len(nodes_ready)!=0:\n",
    "        i=nodes_ready.pop()\n",
    "        nodes_received.add(i)\n",
    "        message[t_pos][i]=[]\n",
    "\n",
    "        if parent[i] is not None:\n",
    "            child_product=np.array([1]*len(t_of_T))\n",
    "            for k in child[i]:\n",
    "                child_product=np.multiply(child_product, np.array(message[t_pos][k]))\n",
    "            i_pdf=[G[i][parent[i]]['weight'] * math.exp(-G[i][parent[i]]['weight'] * t_of_T[j]) for j in range(0, num_intervals+1)]\n",
    "            for j in range(0, num_intervals+1):\n",
    "                ## not use fft\n",
    "                message[t_pos][i].append(np.sum(np.multiply(child_product[::-1][:j+1], np.array(i_pdf)[:j+1]))*T/num_intervals)\n",
    "                ##use fft  \n",
    "                # message[t_pos][i].append(rfft_convolve(child_product[num_intervals-j:], i_pdf[:j+1])[::-1][0]*T/num_intervals)\n",
    "\n",
    "\n",
    "            i_p=parent[i]\n",
    "            num_child_not_ready[i_p]-=1\n",
    "            if num_child_not_ready[i_p] == 0:\n",
    "                nodes_ready.add(i_p)    \n",
    "        else:\n",
    "            root_product=1\n",
    "            for k in child[i]:\n",
    "                if k in nodes_infected:\n",
    "                    root_product=root_product*np.sum(message[t_pos][k])*T/num_intervals\n",
    "                else:\n",
    "                    root_product=root_product*message[t_pos][k][num_intervals] # because for susceptible nodes in b_uninfected, we calculated its CDF in its message[t_pos]\n",
    "\n",
    "            result[t_pos][source]=root_product.copy()\n",
    "            # nodes_no_result.remove(source)\n",
    "\n",
    "\n"
   ]
  },
  {
   "cell_type": "code",
   "execution_count": 12,
   "id": "c3e5e6cd-bde4-457f-ad30-56c1a8069a38",
   "metadata": {},
   "outputs": [
    {
     "data": {
      "text/plain": [
       "[1.0,\n",
       " 0.7788007830714049,\n",
       " 0.6065306597126334,\n",
       " 0.4723665527410147,\n",
       " 0.36787944117144233,\n",
       " 0.2865047968601901,\n",
       " 0.22313016014842982,\n",
       " 0.17377394345044514,\n",
       " 0.1353352832366127,\n",
       " 0.10539922456186433,\n",
       " 0.0820849986238988,\n",
       " 0.06392786120670757,\n",
       " 0.049787068367863944,\n",
       " 0.03877420783172201,\n",
       " 0.0301973834223185,\n",
       " 0.023517745856009107,\n",
       " 0.01831563888873418,\n",
       " 0.014264233908999256,\n",
       " 0.011108996538242306,\n",
       " 0.008651695203120634,\n",
       " 0.006737946999085467]"
      ]
     },
     "execution_count": 12,
     "metadata": {},
     "output_type": "execute_result"
    }
   ],
   "source": [
    "message[t_pos][2]"
   ]
  },
  {
   "cell_type": "code",
   "execution_count": 13,
   "id": "fa8e101e-b558-46ff-a7dd-0871e51a1af7",
   "metadata": {},
   "outputs": [
    {
     "data": {
      "text/plain": [
       "[None,\n",
       " {0: 0.0031920156366950932},\n",
       " {0: 0.00808081162764457},\n",
       " {0: 0.006680641280013004},\n",
       " {0: 0.003553068619972021},\n",
       " {0: 0.0015011304692722368},\n",
       " {0: 0.0005526418837726073},\n",
       " {0: 0.00018602667367258172},\n",
       " {0: 5.886381039215177e-05},\n",
       " {0: 1.781104340711093e-05},\n",
       " {0: 5.210981868455816e-06}]"
      ]
     },
     "execution_count": 13,
     "metadata": {},
     "output_type": "execute_result"
    }
   ],
   "source": [
    "result"
   ]
  },
  {
   "cell_type": "code",
   "execution_count": null,
   "id": "c2d734c0-af5a-4abc-89ee-64916d1842e0",
   "metadata": {},
   "outputs": [],
   "source": [
    "\n",
    "# 'message_from_parent': 'key:value' pair, where 'value' is a list storing the message the parent in original graph of node 'key' should send to node 'key' when node 'key' becomes the source\n",
    "\n",
    "message_from_parent=[None]*(len(T_positions)+1)\n",
    "\n",
    "\n",
    "for t_pos in T_positions:\n",
    "    ## do not forgot the T and t_of_T when \"for t_pos in T_positions\" is separated to two part\n",
    "    T=T_max*t_pos/len(T_positions) # total time\n",
    "    t_of_T=[T/num_intervals*i for i in range(0, num_intervals+1)]\n",
    "    \n",
    "    \n",
    "    message_from_parent[t_pos]={}\n",
    "    nodes_to_compute=[i for i in child[source] if i in nodes_infected]\n",
    "    while len(nodes_to_compute)!=0:\n",
    "        i=nodes_to_compute.pop()\n",
    "        i_p=parent[i]\n",
    "\n",
    "        message_from_parent[t_pos][i]=[]\n",
    "        # calculate the product of messages from neighbors of i_p except i \n",
    "        child_product=np.array([1]*len(t_of_T))\n",
    "        child_i_p_exclude_i = child[i_p].copy()\n",
    "        child_i_p_exclude_i.remove(i)\n",
    "        for k in child_i_p_exclude_i:\n",
    "            child_product=np.multiply(child_product, np.array(message[t_pos][k]))\n",
    "        # parent[i_p] is not None means i is not connected to the source\n",
    "        if parent[i_p] is not None:\n",
    "            child_product=np.multiply(child_product, np.array(message_from_parent[t_pos][i_p]))\n",
    "\n",
    "        # message_from_parent[t_pos][i] is the message i_p should send to i\n",
    "        i_pdf=[G[i][i_p]['weight'] * math.exp(-G[i][i_p]['weight'] * t_of_T[j]) for j in range(0, num_intervals+1)]\n",
    "        for j in range(0, num_intervals+1):\n",
    "            ## not use fft\n",
    "            message_from_parent[t_pos][i].append(np.sum(np.multiply(child_product[::-1][:j+1], np.array(i_pdf)[:j+1]))*T/num_intervals)\n",
    "            ##use fft  \n",
    "            # message_from_parent[t_pos][i].append(rfft_convolve(child_product[num_intervals-j:], i_pdf[:j+1])[::-1][0]*T/num_intervals)            \n",
    "            \n",
    "        # calculate the probability as if i is the root (source), for message from i_p, should use message_from_parent[t_pos][i]\n",
    "        root_product=1\n",
    "        root_product=root_product*np.sum(message_from_parent[t_pos][i])*T/num_intervals\n",
    "        for k in child[i]:\n",
    "            if k in nodes_infected:\n",
    "                root_product=root_product*np.sum(message[t_pos][k])*T/num_intervals\n",
    "            else:\n",
    "                root_product=root_product*message[t_pos][k][num_intervals] # because for susceptible nodes in b_uninfected, we calculated its CDF in its message\n",
    "        # print(t_pos, len(result),result[t_pos])\n",
    "        result[t_pos][i]=root_product.copy()\n",
    "\n",
    "\n",
    "         # nodes_no_result.remove(i)\n",
    "        nodes_to_compute=nodes_to_compute + [j for j in child[i] if j in nodes_infected]\n"
   ]
  },
  {
   "cell_type": "code",
   "execution_count": 15,
   "id": "c7e097e6-3c09-4b2e-b80d-8a48bc0b4767",
   "metadata": {},
   "outputs": [
    {
     "data": {
      "text/plain": [
       "[None,\n",
       " {0: 0.0031920156366950932,\n",
       "  1: 0.0004850846462758563,\n",
       "  4: 0.0031920156366950932,\n",
       "  3: 0.002574035865435682},\n",
       " {0: 0.00808081162764457,\n",
       "  1: 0.005090085081573266,\n",
       "  4: 0.00808081162764457,\n",
       "  3: 0.005121456676324649},\n",
       " {0: 0.006680641280013004,\n",
       "  1: 0.009677001481214836,\n",
       "  4: 0.006680641280013004,\n",
       "  3: 0.0032446463847733385},\n",
       " {0: 0.003553068619972021,\n",
       "  1: 0.009242898770100124,\n",
       "  4: 0.003553068619972021,\n",
       "  3: 0.0012906985991093564},\n",
       " {0: 0.0015011304692722368,\n",
       "  1: 0.006105885824863585,\n",
       "  4: 0.0015011304692722368,\n",
       "  3: 0.0003986826951442454},\n",
       " {0: 0.0005526418837726073,\n",
       "  1: 0.003215788321937638,\n",
       "  4: 0.0005526418837726073,\n",
       "  3: 0.00010509041579005836},\n",
       " {0: 0.00018602667367258172,\n",
       "  1: 0.0014560320210853818,\n",
       "  4: 0.00018602667367258172,\n",
       "  3: 2.4855266526124204e-05},\n",
       " {0: 5.886381039215177e-05,\n",
       "  1: 0.0005925610525155614,\n",
       "  4: 5.886381039215177e-05,\n",
       "  3: 5.434260146641691e-06},\n",
       " {0: 1.781104340711093e-05,\n",
       "  1: 0.00022296040478284396,\n",
       "  4: 1.781104340711093e-05,\n",
       "  3: 1.119534029136166e-06},\n",
       " {0: 5.210981868455816e-06,\n",
       "  1: 7.903510154678657e-05,\n",
       "  4: 5.210981868455816e-06,\n",
       "  3: 2.2016554250481154e-07}]"
      ]
     },
     "execution_count": 15,
     "metadata": {},
     "output_type": "execute_result"
    }
   ],
   "source": [
    "result"
   ]
  },
  {
   "cell_type": "code",
   "execution_count": 16,
   "id": "6844c8cc-54ae-4c13-be1a-fd7ddce5b93b",
   "metadata": {},
   "outputs": [
    {
     "name": "stdout",
     "output_type": "stream",
     "text": [
      "{0: 0.0031920156366950932, 1: 0.0004850846462758563, 3: 0.002574035865435682, 4: 0.0031920156366950932}\n",
      "\n",
      "{0: 0.00808081162764457, 1: 0.005090085081573266, 3: 0.005121456676324649, 4: 0.00808081162764457}\n",
      "\n",
      "{0: 0.006680641280013004, 1: 0.009677001481214836, 3: 0.0032446463847733385, 4: 0.006680641280013004}\n",
      "\n",
      "{0: 0.003553068619972021, 1: 0.009242898770100124, 3: 0.0012906985991093564, 4: 0.003553068619972021}\n",
      "\n",
      "{0: 0.0015011304692722368, 1: 0.006105885824863585, 3: 0.0003986826951442454, 4: 0.0015011304692722368}\n",
      "\n",
      "{0: 0.0005526418837726073, 1: 0.003215788321937638, 3: 0.00010509041579005836, 4: 0.0005526418837726073}\n",
      "\n",
      "{0: 0.00018602667367258172, 1: 0.0014560320210853818, 3: 2.4855266526124204e-05, 4: 0.00018602667367258172}\n",
      "\n",
      "{0: 5.886381039215177e-05, 1: 0.0005925610525155614, 3: 5.434260146641691e-06, 4: 5.886381039215177e-05}\n",
      "\n",
      "{0: 1.781104340711093e-05, 1: 0.00022296040478284396, 3: 1.119534029136166e-06, 4: 1.781104340711093e-05}\n",
      "\n",
      "{0: 5.210981868455816e-06, 1: 7.903510154678657e-05, 3: 2.2016554250481154e-07, 4: 5.210981868455816e-06}\n"
     ]
    }
   ],
   "source": [
    "for i in result:\n",
    "    if i is not None:\n",
    "        print(dict(sorted(i.items())))"
   ]
  },
  {
   "cell_type": "code",
   "execution_count": null,
   "id": "974b4d16-f41b-46eb-969e-5656a1379f73",
   "metadata": {},
   "outputs": [],
   "source": []
  },
  {
   "cell_type": "code",
   "execution_count": 17,
   "id": "a509d912-857d-4a2e-827a-ee9fa3d5ec62",
   "metadata": {},
   "outputs": [],
   "source": [
    "## store the likelyhood with nodes as keys of a dict. 'result_by_node[i][j]' is the likehood for node i to be the source when observation time is the T_positions[j]-th observation time\n",
    "result_by_node={}\n",
    "for i in nodes_infected:\n",
    "    result_by_node[i]=[]\n",
    "    for t_pos in T_positions:\n",
    "        result_by_node[i].append(result[t_pos][i]) # pay attention that the index 0 correspond to t_pos=1"
   ]
  },
  {
   "cell_type": "code",
   "execution_count": 18,
   "id": "02b9a5e5-74c8-4347-9e10-f9274e5e5c65",
   "metadata": {},
   "outputs": [
    {
     "data": {
      "text/plain": [
       "{0: [0.0031920156366950932,\n",
       "  0.00808081162764457,\n",
       "  0.006680641280013004,\n",
       "  0.003553068619972021,\n",
       "  0.0015011304692722368,\n",
       "  0.0005526418837726073,\n",
       "  0.00018602667367258172,\n",
       "  5.886381039215177e-05,\n",
       "  1.781104340711093e-05,\n",
       "  5.210981868455816e-06],\n",
       " 1: [0.0004850846462758563,\n",
       "  0.005090085081573266,\n",
       "  0.009677001481214836,\n",
       "  0.009242898770100124,\n",
       "  0.006105885824863585,\n",
       "  0.003215788321937638,\n",
       "  0.0014560320210853818,\n",
       "  0.0005925610525155614,\n",
       "  0.00022296040478284396,\n",
       "  7.903510154678657e-05],\n",
       " 3: [0.002574035865435682,\n",
       "  0.005121456676324649,\n",
       "  0.0032446463847733385,\n",
       "  0.0012906985991093564,\n",
       "  0.0003986826951442454,\n",
       "  0.00010509041579005836,\n",
       "  2.4855266526124204e-05,\n",
       "  5.434260146641691e-06,\n",
       "  1.119534029136166e-06,\n",
       "  2.2016554250481154e-07],\n",
       " 4: [0.0031920156366950932,\n",
       "  0.00808081162764457,\n",
       "  0.006680641280013004,\n",
       "  0.003553068619972021,\n",
       "  0.0015011304692722368,\n",
       "  0.0005526418837726073,\n",
       "  0.00018602667367258172,\n",
       "  5.886381039215177e-05,\n",
       "  1.781104340711093e-05,\n",
       "  5.210981868455816e-06]}"
      ]
     },
     "execution_count": 18,
     "metadata": {},
     "output_type": "execute_result"
    }
   ],
   "source": [
    "result_by_node"
   ]
  },
  {
   "cell_type": "code",
   "execution_count": 23,
   "id": "2b5ffd3a-0371-4eba-92fc-2f47c9771174",
   "metadata": {},
   "outputs": [
    {
     "name": "stdout",
     "output_type": "stream",
     "text": [
      "{0: 2, 1: 3, 3: 2, 4: 2}\n",
      "\n",
      "The most likely source nodes are: {1} \n",
      "\n",
      " the corresponding likelyhood probability value is 0.009677001481214836 \n",
      "\n",
      " the index of the ovservation time correspond to node 1  is  3\n"
     ]
    }
   ],
   "source": [
    "## 'max_nodes_t_pos' is a dict; max_nodes_t_pos[i][j] is an integer such that at max_nodes_t_pos[i][j]-th observation time is when node i achives largest likelyhood probability to be the source over all the ovservation times\n",
    "## 'max_node' are the node has the largest likelyhood probability to be the source, and 'max_value' is the value.\n",
    "max_nodes_t_pos={}\n",
    "max_value=0\n",
    "max_nodes=set()\n",
    "\n",
    "for k,v in result_by_node.items():\n",
    "    max_index=np.argmax(v)\n",
    "    max_nodes_t_pos[k]=max_index+1\n",
    "    if np.isclose(v[max_index],max_value):\n",
    "        max_nodes.add(k)\n",
    "    elif v[max_index]>max_value:               \n",
    "        max_value=v[max_index]\n",
    "        max_nodes={k}\n",
    "\n",
    "print(max_nodes_t_pos)\n",
    "print('The most likely source nodes are:', max_nodes, '\\n', 'the corresponding likelyhood probability value is', max_value, '\\n', \n",
    "          'the index of the ovservation time correspond to node', list(max_nodes)[0], ' is ', max_nodes_t_pos[list(max_nodes)[0]])"
   ]
  },
  {
   "cell_type": "code",
   "execution_count": null,
   "id": "cb841c9e-020e-456e-a2a4-a5e4ee0fb282",
   "metadata": {},
   "outputs": [],
   "source": []
  },
  {
   "cell_type": "code",
   "execution_count": 24,
   "id": "fa59604f-b390-4e60-819c-b1cafac5107c",
   "metadata": {},
   "outputs": [],
   "source": [
    "## result_by_t_pos[i][j] is the likelyhood probability for node j to be the source at i-th observation time.\n",
    "result_by_t_pos={}\n",
    "# pay attention that the index 0 correspond to t_pos=1\n",
    "for t_pos in T_positions:\n",
    "    result_by_t_pos[t_pos]=[]\n",
    "    for k in G.nodes():\n",
    "        result_by_t_pos[t_pos].append(result_by_node[k][t_pos-1] if k in nodes_infected else 0)\n"
   ]
  },
  {
   "cell_type": "code",
   "execution_count": 33,
   "id": "a33d3a19-257f-484b-b0d6-5e7a026ec6b5",
   "metadata": {},
   "outputs": [],
   "source": [
    "# result_by_t_pos"
   ]
  },
  {
   "cell_type": "code",
   "execution_count": 34,
   "id": "347ad613-1ea5-4f6d-8eeb-4812db8ab4a3",
   "metadata": {},
   "outputs": [],
   "source": [
    "colors_dict=copy.deepcopy(result_by_t_pos)\n",
    "norm = mpl.colors.Normalize(vmin=0, vmax=max_value, clip=True)\n",
    "mapper = mpl.cm.ScalarMappable(norm=norm, cmap=mpl.cm.Greens)\n"
   ]
  },
  {
   "cell_type": "code",
   "execution_count": 40,
   "id": "bed837fa-545b-4e82-9d26-12470da62317",
   "metadata": {},
   "outputs": [],
   "source": [
    "def plot_result_by_t_pos(t_pos_for_plot):\n",
    "    nx.draw(G, pos=pos, node_color=[mapper.to_rgba(i) for i in colors_dict[t_pos_for_plot]], with_labels=True)\n",
    "    plt.show()"
   ]
  },
  {
   "cell_type": "code",
   "execution_count": 47,
   "id": "8afe6466-e2af-422a-bcda-eae9a0f67481",
   "metadata": {},
   "outputs": [
    {
     "data": {
      "application/vnd.jupyter.widget-view+json": {
       "model_id": "159685b8f26c43a1a213c287f2dd77a4",
       "version_major": 2,
       "version_minor": 0
      },
      "text/plain": [
       "interactive(children=(IntSlider(value=1, description='index of the observation time', layout=Layout(width='500…"
      ]
     },
     "metadata": {},
     "output_type": "display_data"
    },
    {
     "name": "stdout",
     "output_type": "stream",
     "text": [
      "the darker the node color, the larger probability for the node to be the source\n"
     ]
    }
   ],
   "source": [
    "widgets.interact(plot_result_by_t_pos,t_pos_for_plot=widgets.IntSlider(min=1, max=max(T_positions), step=1, value=1,description=\"index of the observation time\",style={'description_width': 'initial'},layout=widgets.Layout(width='500px')))\n",
    "\n",
    "print(\"the darker the node color, the larger probability for the node to be the source\")"
   ]
  },
  {
   "cell_type": "markdown",
   "id": "8d2809b5-8f7e-4b3e-8b03-88ce58e33fca",
   "metadata": {},
   "source": [
    " <font color='red'>To be improved:</font> it is better to make the probability values as the color bar, which requires self-defined colormap without normolize the probability values"
   ]
  },
  {
   "cell_type": "code",
   "execution_count": null,
   "id": "f5e137b8-3675-4b3c-aad8-aed97e09b85e",
   "metadata": {},
   "outputs": [],
   "source": [
    "-----------------------------------------------"
   ]
  },
  {
   "attachments": {
    "c57f1d00-1dd7-4d76-9260-386f7089877d.png": {
     "image/png": "[encoded data removed]"
    }
   },
   "cell_type": "markdown",
   "id": "2d5d6151-dd9a-45b9-b6c5-5a44d567d78c",
   "metadata": {},
   "source": [
    "![image.png](attachment:c57f1d00-1dd7-4d76-9260-386f7089877d.png)"
   ]
  },
  {
   "cell_type": "code",
   "execution_count": null,
   "id": "ca0c41b7-386b-419f-878c-46f532ab1d07",
   "metadata": {
    "tags": []
   },
   "outputs": [],
   "source": []
  },
  {
   "cell_type": "code",
   "execution_count": 35,
   "id": "ae1871c0-d5c3-4bf2-8300-9158a08bf3a8",
   "metadata": {},
   "outputs": [],
   "source": [
    "# colors_dict[t_pos_for_plot]"
   ]
  },
  {
   "cell_type": "code",
   "execution_count": 36,
   "id": "d7be9f41-8f3f-421c-a97d-424f7c915da5",
   "metadata": {},
   "outputs": [],
   "source": [
    "# t_pos_for_plot=2\n",
    "# nx.draw(G, pos=pos, node_color=[mapper.to_rgba(i) for i in colors_dict[t_pos_for_plot]], with_labels=True)\n",
    "# plt.show()"
   ]
  },
  {
   "cell_type": "code",
   "execution_count": null,
   "id": "7dfa3d66-c5f2-4b4e-a0fa-9dde70b1c164",
   "metadata": {},
   "outputs": [],
   "source": []
  },
  {
   "cell_type": "code",
   "execution_count": null,
   "id": "277a2bcc-e14f-4f79-8554-77963819c10d",
   "metadata": {},
   "outputs": [],
   "source": []
  }
 ],
 "metadata": {
  "kernelspec": {
   "display_name": "Python 3 (ipykernel)",
   "language": "python",
   "name": "python3"
  },
  "language_info": {
   "codemirror_mode": {
    "name": "ipython",
    "version": 3
   },
   "file_extension": ".py",
   "mimetype": "text/x-python",
   "name": "python",
   "nbconvert_exporter": "python",
   "pygments_lexer": "ipython3",
   "version": "3.10.8"
  }
 },
 "nbformat": 4,
 "nbformat_minor": 5
}
